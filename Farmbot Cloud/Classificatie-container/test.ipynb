{
 "cells": [
  {
   "cell_type": "code",
   "execution_count": 31,
   "metadata": {},
   "outputs": [],
   "source": [
    "import torch\n",
    "import yaml\n",
    "import cv2\n",
    "import numpy as np\n",
    "import matplotlib.pyplot as plt\n"
   ]
  },
  {
   "cell_type": "code",
   "execution_count": 32,
   "metadata": {},
   "outputs": [
    {
     "name": "stderr",
     "output_type": "stream",
     "text": [
      "YOLOv5  2022-1-11 torch 1.10.1+cpu CPU\n",
      "\n",
      "Fusing layers... \n",
      "Model Summary: 213 layers, 7020913 parameters, 0 gradients\n",
      "Adding AutoShape... \n"
     ]
    }
   ],
   "source": [
    "model = torch.hub.load('yolo', 'custom', path='best.pt', source='local')\n",
    "\n",
    "img = 'https://firebasestorage.googleapis.com/v0/b/farmbot-avans-cloud.appspot.com/o/images%2F0ab0016e-989c-4978-ac70-cca24e094eb3.jpg?alt=media&token=dd77c4e3-f0c2-4bb2-b943-8b28cc2e8088'\n",
    "\n",
    "results = model(img)\n",
    "\n",
    "img = results.render()\n",
    "boxes = results.xyxyn\n",
    "#different types of boxes\n",
    "#results.xyxyn\n",
    "#results.xyxy\n",
    "#results.xywh\n",
    "#results.xywhn"
   ]
  },
  {
   "cell_type": "code",
   "execution_count": 33,
   "metadata": {},
   "outputs": [
    {
     "data": {
      "text/plain": [
       "True"
      ]
     },
     "execution_count": 33,
     "metadata": {},
     "output_type": "execute_result"
    }
   ],
   "source": [
    "#show image\n",
    "#print(img[0])\n",
    "\n",
    "# save image\n",
    "cv2.imwrite('test.jpg', img[0])"
   ]
  }
 ],
 "metadata": {
  "interpreter": {
   "hash": "60be34b421f45d2badabb715380f914403eea4c8a597856763131a5fb5720b89"
  },
  "kernelspec": {
   "display_name": "Python 3.8.11 64-bit ('tf_gpu': conda)",
   "language": "python",
   "name": "python3"
  },
  "language_info": {
   "codemirror_mode": {
    "name": "ipython",
    "version": 3
   },
   "file_extension": ".py",
   "mimetype": "text/x-python",
   "name": "python",
   "nbconvert_exporter": "python",
   "pygments_lexer": "ipython3",
   "version": "3.8.11"
  },
  "orig_nbformat": 4
 },
 "nbformat": 4,
 "nbformat_minor": 2
}
