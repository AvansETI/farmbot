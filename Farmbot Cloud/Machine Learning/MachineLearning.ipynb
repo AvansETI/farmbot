{
 "cells": [
  {
   "cell_type": "code",
   "execution_count": null,
   "metadata": {},
   "outputs": [],
   "source": [
    "import torch\n",
    "\n",
    "#test Push"
   ]
  }
 ],
 "metadata": {
  "interpreter": {
   "hash": "df26fe2f806d489677cc184dcf5c20e240f9f76c5d10c9b3ec1c4c95800112df"
  },
  "kernelspec": {
   "display_name": "Python 3.9.6 64-bit ('ml1': conda)",
   "language": "python",
   "name": "python3"
  },
  "language_info": {
   "name": "python",
   "version": "3.9.6"
  },
  "orig_nbformat": 4
 },
 "nbformat": 4,
 "nbformat_minor": 2
}
