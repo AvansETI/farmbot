{
 "cells": [
  {
   "cell_type": "code",
   "execution_count": 248,
   "metadata": {},
   "outputs": [],
   "source": [
    "# imports\n",
    "from imgaug import augmenters as iaa\n",
    "import imgaug as ia\n",
    "import os\n",
    "import numpy as np\n",
    "import cv2\n",
    "import glob\n",
    "from PIL import Image\n",
    "from imgaug.augmentables.bbs import BoundingBox, BoundingBoxesOnImage\n"
   ]
  },
  {
   "cell_type": "code",
   "execution_count": 249,
   "metadata": {},
   "outputs": [],
   "source": [
    "# seed for ia randomizer\n",
    "ia.seed(1)\n"
   ]
  },
  {
   "cell_type": "code",
   "execution_count": 250,
   "metadata": {},
   "outputs": [
    {
     "name": "stdout",
     "output_type": "stream",
     "text": [
      "found 9 .jpg files\n",
      "ignored 9 other file types\n"
     ]
    }
   ],
   "source": [
    "# fetch certain file types\n",
    "images_names = []\n",
    "ignored = 0\n",
    "\n",
    "for fname in os.listdir('images'):\n",
    "    if fname.endswith('.jpg'):\n",
    "        images_names.append(fname)\n",
    "    else:\n",
    "        ignored += 1\n",
    "\n",
    "print(\"found\", len(images_names), \".jpg files\")\n",
    "print(\"ignored\", ignored, \"other file types\")\n"
   ]
  },
  {
   "cell_type": "code",
   "execution_count": 251,
   "metadata": {},
   "outputs": [],
   "source": [
    "# extract only bounding box information from .txt file (see format below)\n",
    "def extract_bounding_boxes(file):\n",
    "    bounding_boxes = []\n",
    "    with open(file) as f:\n",
    "        boxes = f.readlines()\n",
    "        for box in boxes:\n",
    "            box_arr = box.split(' ')\n",
    "            bounding_boxes.append(\n",
    "                [box_arr[1], box_arr[2], box_arr[3], box_arr[4].strip(\"\\n\")])\n",
    "    return bounding_boxes\n",
    "\n",
    "# extract only the classification label from .txt file (see format below)\n",
    "\n",
    "\n",
    "def extract_classification_labels(file):\n",
    "    class_labels = []\n",
    "    with open(file) as f:\n",
    "        labels = f.readlines()\n",
    "        for label in labels:\n",
    "            lab_arr = label.split(' ')\n",
    "            class_labels.append(lab_arr[0])\n",
    "    return class_labels\n"
   ]
  },
  {
   "cell_type": "markdown",
   "metadata": {},
   "source": [
    "Bounding box .txt files should look as follows:\n",
    "\n",
    "3 0.297656 0.615278 0.118750 0.205556   \n",
    "3 0.622656 0.374306 0.056250 0.093056\n",
    "\n",
    "Where the first number represents a classification label"
   ]
  },
  {
   "cell_type": "code",
   "execution_count": 252,
   "metadata": {},
   "outputs": [
    {
     "name": "stdout",
     "output_type": "stream",
     "text": [
      "images found with bounding box(es): 9\n",
      "classifications found for boxes: 9\n",
      "[['3', '3'], ['3', '0'], ['0'], ['3'], ['0'], ['3', '3'], ['3', '3', '3', '3', '3'], ['0'], ['3']]\n"
     ]
    }
   ],
   "source": [
    "# put images in np-array from memory & put corresponding bounding boxes in array in order\n",
    "# bounding_box_images contains tuples in which the first element corresponds to the image and the second element corresponds to the bounding boxes details as an array\n",
    "bounding_box_images = []\n",
    "classification_labels = []\n",
    "\n",
    "for image_name in images_names:\n",
    "    # obtain image\n",
    "    location = \"images/\"+image_name\n",
    "    image = cv2.imread(location)\n",
    "\n",
    "    # obtain bounding boxes\n",
    "    loc = os.path.splitext(location)[0] + '.txt'\n",
    "    bounding_boxes = extract_bounding_boxes(loc)\n",
    "\n",
    "    # put data in tuple and append to array\n",
    "    bounding_box_images.append((image, bounding_boxes))\n",
    "\n",
    "    # save classification labels for future use\n",
    "    classification_labels.append(extract_classification_labels(loc))\n",
    "\n",
    "\n",
    "print(\"images found with bounding box(es):\", len(bounding_box_images))\n",
    "print(\"classifications found for boxes:\", len(classification_labels))\n",
    "print(classification_labels)\n"
   ]
  },
  {
   "cell_type": "code",
   "execution_count": 253,
   "metadata": {},
   "outputs": [],
   "source": [
    "# sequential operations\n",
    "\n",
    "seq = iaa.Sequential([\n",
    "    iaa.Fliplr(1)\n",
    "])\n"
   ]
  },
  {
   "cell_type": "code",
   "execution_count": 254,
   "metadata": {},
   "outputs": [],
   "source": [
    "\n",
    "\n",
    "\n",
    "# only use when transforming images\n",
    "def normalize_bounding_boxes(img_shape, bbs):\n",
    "    width = img_shape[1]\n",
    "    heigth = img_shape[0]\n",
    "    normalized_bbs = []\n",
    "\n",
    "    for bb in bbs:\n",
    "        bb = [float(val) for val in bb]\n",
    "        bb_normalized = [round(bb[0]/width, 6), round(bb[1]/heigth, 6),\n",
    "                         round(bb[2]/width, 6), round(bb[3]/heigth, 6)]\n",
    "        normalized_bbs.append(bb_normalized)\n",
    "    return normalized_bbs\n",
    "\n",
    "def denormalize_bounding_boxes(img_shape, bbs):\n",
    "    width = img_shape[1]\n",
    "    heigth = img_shape[0]\n",
    "    denormalized_bbs = []\n",
    "    \n",
    "    for bb in bbs:\n",
    "        bb = [float(val) for val in bb]\n",
    "        bb_denormalized = [round(bb[0]*width, 6), round(bb[1]*heigth, 6),\n",
    "                         round(bb[2]*width, 6), round(bb[3]*heigth, 6)]\n",
    "        denormalized_bbs.append(bb_denormalized)\n",
    "    return denormalized_bbs\n"
   ]
  },
  {
   "cell_type": "code",
   "execution_count": 255,
   "metadata": {},
   "outputs": [
    {
     "name": "stdout",
     "output_type": "stream",
     "text": [
      "augbbs: BoundingBoxesOnImage([BoundingBox(x1=899.0003, y1=148.0003, x2=1128.0000, y2=443.0002, label=None), BoundingBox(x1=483.0003, y1=67.0003, x2=1208.0000, y2=269.5003, label=None)], shape=(720, 1280, 3))\n",
      "augbbs: BoundingBoxesOnImage([BoundingBox(x1=200.9997, y1=104.9998, x2=1176.0000, y2=477.4997, label=None), BoundingBox(x1=445.9994, y1=70.9999, x2=981.9994, y2=139.9997, label=None)], shape=(720, 1280, 3))\n",
      "augbbs: BoundingBoxesOnImage([BoundingBox(x1=635.0003, y1=360.4997, x2=956.5005, y2=718.9999, label=None)], shape=(720, 1280, 3))\n",
      "augbbs: BoundingBoxesOnImage([BoundingBox(x1=1062.4998, y1=49.0003, x2=1219.0003, y2=554.5001, label=None)], shape=(720, 1280, 3))\n",
      "augbbs: BoundingBoxesOnImage([BoundingBox(x1=540.0000, y1=385.9999, x2=775.0003, y2=660.0002, label=None)], shape=(720, 1280, 3))\n",
      "augbbs: BoundingBoxesOnImage([BoundingBox(x1=672.9997, y1=69.9998, x2=1172.0000, y2=355.9997, label=None), BoundingBox(x1=269.5002, y1=140.9998, x2=968.9997, y2=649.4998, label=None)], shape=(720, 1280, 3))\n",
      "augbbs: BoundingBoxesOnImage([BoundingBox(x1=836.5005, y1=91.4998, x2=1019.0003, y2=181.0001, label=None), BoundingBox(x1=924.9997, y1=317.0002, x2=984.0000, y2=344.4998, label=None), BoundingBox(x1=728.5005, y1=163.0001, x2=1087.0003, y2=471.4999, label=None), BoundingBox(x1=342.0006, y1=225.0000, x2=806.0006, y2=607.5000, label=None), BoundingBox(x1=1040.9997, y1=249.9998, x2=1159.4995, y2=515.0002, label=None)], shape=(720, 1280, 3))\n",
      "augbbs: BoundingBoxesOnImage([BoundingBox(x1=1003.0003, y1=142.9999, x2=1140.5005, y2=283.9997, label=None)], shape=(720, 1280, 3))\n",
      "augbbs: BoundingBoxesOnImage([BoundingBox(x1=1032.9997, y1=68.5001, x2=1090.4998, y2=135.0000, label=None)], shape=(720, 1280, 3))\n",
      "new image with boxes...\n",
      "[['3', 0.702344, 0.205556, 0.88125, 0.615278], [0.377344, 0.093056, 0.94375, 0.374306]]\n",
      "[['3', 0.702344, 0.205556, 0.88125, 0.615278], ['3', 0.377344, 0.093056, 0.94375, 0.374306]]\n",
      "new image with boxes...\n",
      "[['3', 0.157031, 0.145833, 0.91875, 0.663194], [0.348437, 0.098611, 0.767187, 0.194444]]\n",
      "[['3', 0.157031, 0.145833, 0.91875, 0.663194], ['0', 0.348437, 0.098611, 0.767187, 0.194444]]\n",
      "new image with boxes...\n",
      "[['0', 0.496094, 0.500694, 0.747266, 0.998611]]\n",
      "new image with boxes...\n",
      "[['3', 0.830078, 0.068056, 0.952344, 0.770139]]\n",
      "new image with boxes...\n",
      "[['0', 0.421875, 0.536111, 0.605469, 0.916667]]\n",
      "new image with boxes...\n",
      "[['3', 0.525781, 0.097222, 0.915625, 0.494444], [0.210547, 0.195833, 0.757031, 0.902083]]\n",
      "[['3', 0.525781, 0.097222, 0.915625, 0.494444], ['3', 0.210547, 0.195833, 0.757031, 0.902083]]\n",
      "new image with boxes...\n",
      "[['3', 0.653516, 0.127083, 0.796094, 0.251389], [0.722656, 0.440278, 0.76875, 0.478472], [0.569141, 0.226389, 0.849219, 0.654861], [0.267188, 0.3125, 0.629688, 0.84375], [0.813281, 0.347222, 0.905859, 0.715278]]\n",
      "[['3', 0.653516, 0.127083, 0.796094, 0.251389], ['3', 0.722656, 0.440278, 0.76875, 0.478472], [0.569141, 0.226389, 0.849219, 0.654861], [0.267188, 0.3125, 0.629688, 0.84375], [0.813281, 0.347222, 0.905859, 0.715278]]\n",
      "[['3', 0.653516, 0.127083, 0.796094, 0.251389], ['3', 0.722656, 0.440278, 0.76875, 0.478472], ['3', 0.569141, 0.226389, 0.849219, 0.654861], [0.267188, 0.3125, 0.629688, 0.84375], [0.813281, 0.347222, 0.905859, 0.715278]]\n",
      "[['3', 0.653516, 0.127083, 0.796094, 0.251389], ['3', 0.722656, 0.440278, 0.76875, 0.478472], ['3', 0.569141, 0.226389, 0.849219, 0.654861], ['3', 0.267188, 0.3125, 0.629688, 0.84375], [0.813281, 0.347222, 0.905859, 0.715278]]\n",
      "[['3', 0.653516, 0.127083, 0.796094, 0.251389], ['3', 0.722656, 0.440278, 0.76875, 0.478472], ['3', 0.569141, 0.226389, 0.849219, 0.654861], ['3', 0.267188, 0.3125, 0.629688, 0.84375], ['3', 0.813281, 0.347222, 0.905859, 0.715278]]\n",
      "new image with boxes...\n",
      "[['0', 0.783594, 0.198611, 0.891016, 0.394444]]\n",
      "new image with boxes...\n",
      "[['3', 0.807031, 0.095139, 0.851953, 0.1875]]\n"
     ]
    }
   ],
   "source": [
    "# perform image & bounding box augmentation on all images\n",
    "augmented_bb_images = []\n",
    "for bb_img in bounding_box_images:\n",
    "    \n",
    "    # extract bounding boxes per image and create BoundingBox objects from data\n",
    "    bb_img_denormalised = denormalize_bounding_boxes(bb_img[0].shape, bb_img[1])\n",
    "    \n",
    "    bbs = BoundingBoxesOnImage([\n",
    "        BoundingBox(x1=float(bb[0]), y1=float(bb[1]), x2=float(bb[2]), y2=float(bb[3])) for bb in bb_img_denormalised\n",
    "    ], shape=bb_img[0].shape)\n",
    "    \n",
    "    \n",
    "    # Augment BBs and images.\n",
    "    aug_img, aug_bbs = seq(image=bb_img[0], bounding_boxes=bbs) \n",
    "    print(\"augbbs:\", aug_bbs)\n",
    "    \n",
    "    # normalize bounding boxes to yolo format\n",
    "    aug_bbs = [[bb.x1, bb.y1, bb.x2, bb.y2] for bb in aug_bbs]\n",
    "    \n",
    "    aug_bbs = normalize_bounding_boxes(bb_img[0].shape, aug_bbs)\n",
    "   \n",
    "    \n",
    "    aug_bb_img = [aug_img, aug_bbs]\n",
    "    augmented_bb_images.append(aug_bb_img)\n",
    "   \n",
    "\n",
    "\n",
    "# add classification label to each box\n",
    "for idx, images in enumerate(augmented_bb_images):\n",
    "    print(\"new image with boxes...\")\n",
    "    for idx2, box in enumerate(images[1]):\n",
    "        # print(box)\n",
    "        label = classification_labels[idx][idx2]\n",
    "        \n",
    "        label_box = [label]\n",
    "        for b in box:\n",
    "            label_box.append(b)\n",
    "\n",
    "        augmented_bb_images[idx][1][idx2] = label_box\n",
    "        print(augmented_bb_images[idx][1])\n",
    "        \n",
    "        \n",
    "\n",
    "#TODO: IMPLEMENTEER:\n",
    "# https://stackoverflow.com/questions/56115874/how-to-convert-bounding-box-x1-y1-x2-y2-to-yolo-style-x-y-w-h"
   ]
  },
  {
   "cell_type": "code",
   "execution_count": 256,
   "metadata": {},
   "outputs": [],
   "source": [
    "# augmented_bb_images folder path\n",
    "path = 'augmented_bb_images/'\n"
   ]
  },
  {
   "cell_type": "code",
   "execution_count": 257,
   "metadata": {},
   "outputs": [],
   "source": [
    "# ONLY EXECUTE THIS CELL BLOCK IF YOU WANT THE CURRENT AUGMENTED IMAGES FOLDER TO BE DELETED!!!\n",
    "\n",
    "# empty augmented_images folder\n",
    "\n",
    "for f in os.listdir(path):\n",
    "    os.remove(os.path.join(path, f))\n"
   ]
  },
  {
   "cell_type": "code",
   "execution_count": 258,
   "metadata": {},
   "outputs": [
    {
     "name": "stdout",
     "output_type": "stream",
     "text": [
      "writing to: augmented_bb_images/AUG-0ab0016e-989c-4978-ac70-cca24e094eb3.txt\n",
      "stopped writing to: augmented_bb_images/AUG-0ab0016e-989c-4978-ac70-cca24e094eb3.txt\n",
      "writing to: augmented_bb_images/AUG-0c3f985a-9024-4db5-a30d-05f15f35627a.txt\n",
      "stopped writing to: augmented_bb_images/AUG-0c3f985a-9024-4db5-a30d-05f15f35627a.txt\n",
      "writing to: augmented_bb_images/AUG-0e6c765d-8be2-4fda-93af-c3bdced6a9a2.txt\n",
      "stopped writing to: augmented_bb_images/AUG-0e6c765d-8be2-4fda-93af-c3bdced6a9a2.txt\n",
      "writing to: augmented_bb_images/AUG-0e495109-b241-4db2-bfb8-4bf6e38aa647.txt\n",
      "stopped writing to: augmented_bb_images/AUG-0e495109-b241-4db2-bfb8-4bf6e38aa647.txt\n",
      "writing to: augmented_bb_images/AUG-0eab23ec-fedb-4851-bafe-eab493059a8e.txt\n",
      "stopped writing to: augmented_bb_images/AUG-0eab23ec-fedb-4851-bafe-eab493059a8e.txt\n",
      "writing to: augmented_bb_images/AUG-1aa958e9-e861-4357-b1bd-001855ec2ec2.txt\n",
      "stopped writing to: augmented_bb_images/AUG-1aa958e9-e861-4357-b1bd-001855ec2ec2.txt\n",
      "writing to: augmented_bb_images/AUG-1bc34869-157f-48a1-9ed1-09e3afa10e1a.txt\n",
      "stopped writing to: augmented_bb_images/AUG-1bc34869-157f-48a1-9ed1-09e3afa10e1a.txt\n",
      "writing to: augmented_bb_images/AUG-0a7c3139-7759-4b04-9572-41b8f7f657c6.txt\n",
      "stopped writing to: augmented_bb_images/AUG-0a7c3139-7759-4b04-9572-41b8f7f657c6.txt\n",
      "writing to: augmented_bb_images/AUG-0aafaabf-a2ba-4d0b-926f-fe7e8af0eb52.txt\n",
      "stopped writing to: augmented_bb_images/AUG-0aafaabf-a2ba-4d0b-926f-fe7e8af0eb52.txt\n"
     ]
    }
   ],
   "source": [
    "for idx, images in enumerate(augmented_bb_images):\n",
    "\n",
    "    # save augmented image\n",
    "  \n",
    "    name =  \"AUG-\" + images_names[idx] \n",
    "    \n",
    "    cv2.imwrite(os.path.join(path, name), images[0]) \n",
    "\n",
    "    # save bounding boxes in yolo format to .txt file\n",
    "    boxes = images[1]\n",
    "    name =  path + \"AUG-\" + os.path.splitext(images_names[idx])[0] + '.txt'\n",
    "\n",
    "    f = open(name, 'w+')\n",
    "    print(\"writing to:\", name)\n",
    "    for idx2, box in enumerate(boxes):\n",
    "        # print(augmented_bb_images[idx][1])\n",
    "        box_string = \"\"\n",
    "        for item in box:\n",
    "            box_string += str(item) + \" \"\n",
    "        box_string += \"\\n\"\n",
    "        try:\n",
    "            f.write(box_string)\n",
    "        except Exception as ex:\n",
    "            print(\"something went wrong when saving bounding boxes for image:\", name)\n",
    "            print(ex)\n",
    "\n",
    "    f.close()\n",
    "    print(\"stopped writing to:\", name)\n"
   ]
  },
  {
   "cell_type": "markdown",
   "metadata": {},
   "source": [
    "TODO:   \n",
    "De input van seq() verwacht pixeldata voor bounding boxes, nu is het nog scalings van bb's\n",
    "dit moet dus worden aangepast om de bb's goed te transformeren.\n"
   ]
  },
  {
   "cell_type": "markdown",
   "metadata": {},
   "source": []
  }
 ],
 "metadata": {
  "interpreter": {
   "hash": "a535705fb941f7f376fd97205253b1f9cc58cca1c08568d5fd0c417c083000d4"
  },
  "kernelspec": {
   "display_name": "Python 3.8.12 64-bit ('imgaug_env': conda)",
   "language": "python",
   "name": "python3"
  },
  "language_info": {
   "codemirror_mode": {
    "name": "ipython",
    "version": 3
   },
   "file_extension": ".py",
   "mimetype": "text/x-python",
   "name": "python",
   "nbconvert_exporter": "python",
   "pygments_lexer": "ipython3",
   "version": "3.8.12"
  },
  "orig_nbformat": 4
 },
 "nbformat": 4,
 "nbformat_minor": 2
}
