{
 "cells": [
  {
   "cell_type": "code",
   "execution_count": 2,
   "metadata": {},
   "outputs": [],
   "source": [
    "#imports\n",
    "from imgaug import augmenters as iaa\n",
    "import imgaug as ia\n",
    "import os\n",
    "import numpy as np\n",
    "import cv2 \n",
    "import glob\n",
    "from PIL import Image\n",
    "from imgaug.augmentables.bbs import BoundingBox, BoundingBoxesOnImage\n"
   ]
  },
  {
   "cell_type": "code",
   "execution_count": 3,
   "metadata": {},
   "outputs": [],
   "source": [
    "# seed for ia randomizer\n",
    "ia.seed(1)"
   ]
  },
  {
   "cell_type": "code",
   "execution_count": 4,
   "metadata": {},
   "outputs": [
    {
     "name": "stdout",
     "output_type": "stream",
     "text": [
      "found 9 .jpg files\n",
      "ignored 9 other file types\n"
     ]
    }
   ],
   "source": [
    "# fetch certain file types\n",
    "images_names = []\n",
    "ignored = 0\n",
    "\n",
    "for fname in os.listdir('images'):\n",
    "    if fname.endswith('.jpg'):\n",
    "        images_names.append(fname)\n",
    "    else:\n",
    "        ignored += 1\n",
    "\n",
    "print(\"found\", len(images_names), \".jpg files\")\n",
    "print(\"ignored\", ignored, \"other file types\")"
   ]
  },
  {
   "cell_type": "code",
   "execution_count": 5,
   "metadata": {},
   "outputs": [],
   "source": [
    "# extract only bounding box information from .txt file (see format below)\n",
    "def extract_bounding_boxes(file):\n",
    "    bounding_boxes = []\n",
    "    with open(file) as f:\n",
    "        boxes = f.readlines()\n",
    "        for box in boxes:\n",
    "            box_arr = box.split(' ')            \n",
    "            bounding_boxes.append((box_arr[1], box_arr[2], box_arr[3], box_arr[4].strip(\"\\n\")))\n",
    "    return bounding_boxes\n"
   ]
  },
  {
   "cell_type": "markdown",
   "metadata": {},
   "source": [
    "Bounding box .txt files should look as follows:\n",
    "\n",
    "3 0.297656 0.615278 0.118750 0.205556   \n",
    "3 0.622656 0.374306 0.056250 0.093056\n",
    "\n",
    "Where the first number represents a classification label"
   ]
  },
  {
   "cell_type": "code",
   "execution_count": 6,
   "metadata": {},
   "outputs": [
    {
     "name": "stdout",
     "output_type": "stream",
     "text": [
      "images found with bounding box(es): 9\n"
     ]
    }
   ],
   "source": [
    "# put images in np-array from memory & put corresponding bounding boxes in array in order\n",
    "# bounding_box_images contains tuples in which the first element corresponds to the image and the second element corresponds to the bounding boxes details as an array\n",
    "bounding_box_images = []\n",
    "\n",
    "for image_name in images_names:\n",
    "    # obtain image\n",
    "    location = \"images/\"+image_name\n",
    "    image = cv2.imread (location)\n",
    "    \n",
    "    # obtain bounding boxes\n",
    "    box_location = os.path.splitext(location)[0] + '.txt'\n",
    "    bounding_boxes = extract_bounding_boxes(box_location)\n",
    "    \n",
    "    # put data in tuple and append to array\n",
    "    bounding_box_images.append((image, bounding_boxes))\n",
    "\n",
    "\n",
    "\n",
    "print(\"images found with bounding box(es):\", len(bounding_box_images))\n",
    "\n"
   ]
  },
  {
   "cell_type": "code",
   "execution_count": 7,
   "metadata": {},
   "outputs": [],
   "source": [
    "# sequential operations\n",
    "\n",
    "seq = iaa.Sequential([\n",
    "    iaa.Multiply((1.2, 1.5)), # change brightness, doesn't affect BBs\n",
    "    iaa.Affine(\n",
    "        translate_px={\"x\": 40, \"y\": 60},\n",
    "        scale=(0.5, 0.7)\n",
    "    ) # translate by 40/60px on x/y axis, and scale to 50-70%, affects BBs\n",
    "])"
   ]
  },
  {
   "cell_type": "code",
   "execution_count": 8,
   "metadata": {},
   "outputs": [],
   "source": [
    "# Augment BBs and images.\n",
    "\n",
    "# function takes image with corresponding bounding boxes and performs augmentation on both.\n",
    "def augment_bb_image(img, bbs):\n",
    "    x, y = seq(image=img, bounding_boxes=bbs)\n",
    "    return x, y\n",
    "\n",
    "# transforms pixel data from bounding boxes to normalized yolo values\n",
    "def normalize_bounding_boxes(img_shape, bbs):\n",
    "    width = img_shape[0]\n",
    "    heigth = img_shape[1]\n",
    "    normalized_bbs = []\n",
    "    for bb in bbs:   \n",
    "        bb_normalized = (round(bb[0]/width, 6), round(bb[1]/heigth, 6), round(bb[2]/width, 6), round(bb[3]/heigth, 6))\n",
    "        normalized_bbs.append(bb_normalized)\n",
    "    return normalized_bbs"
   ]
  },
  {
   "cell_type": "code",
   "execution_count": 9,
   "metadata": {},
   "outputs": [
    {
     "name": "stdout",
     "output_type": "stream",
     "text": [
      "[0.297656 0.615278]\n",
      "[0.622656 0.374306]\n",
      "[0.842969 0.663194]\n",
      "[0.651563 0.194444]\n",
      "[0.503906 0.998611]\n",
      "[0.169922 0.770139]\n",
      "[0.578125 0.916667]\n",
      "[0.474219 0.494444]\n",
      "[0.789453 0.902083]\n",
      "[0.346484 0.251389]\n",
      "[0.277344 0.478472]\n",
      "[0.430859 0.654861]\n",
      "[0.732812 0.84375 ]\n",
      "[0.186719 0.715278]\n",
      "[0.216406 0.394444]\n",
      "[0.192969 0.1875  ]\n"
     ]
    }
   ],
   "source": [
    "# perform image & bounding box augmentation on all images\n",
    "augmented_bb_images = []\n",
    "for bb_img in bounding_box_images:\n",
    "    # print(len(bb_img[1]))\n",
    "    # extract bounding boxes per image and create BoundingBox objects from data\n",
    "    bbs = BoundingBoxesOnImage([\n",
    "        BoundingBox(x1=bb[0], y1=bb[1], x2=bb[2], y2=bb[3]) for bb in bb_img[1]\n",
    "    ], shape=bb_img[0].shape)\n",
    "\n",
    "    # augmented_bb_images\n",
    "    for bb in bbs:\n",
    "        print(bb[1])\n",
    "    aug_img, aug_bbs = augment_bb_image(bb_img[0], bbs)\n",
    "    \n",
    "    # normalize bounding boxes to yolo format\n",
    "    aug_bbs = [(bb.x1, bb.y1, bb.x2, bb.y2) for bb in aug_bbs]\n",
    "    aug_bbs = normalize_bounding_boxes(bb_img[0].shape, aug_bbs)\n",
    "    aug_bb_img = (aug_img, aug_bbs)\n",
    "\n",
    "    augmented_bb_images.append(aug_bb_img)\n",
    "\n",
    "\n",
    "\n",
    "\n",
    "\n"
   ]
  },
  {
   "cell_type": "code",
   "execution_count": 13,
   "metadata": {},
   "outputs": [],
   "source": [
    "# ONLY EXECUTE THIS CELL BLOCK IF YOU WANT THE CURRENT AUGMENTED IMAGES FOLDER TO BE DELETED!!!\n",
    "\n",
    "# empty augmented_images folder\n",
    "path = 'augmented_bb_images'\n",
    "for f in os.listdir(path):\n",
    "    os.remove(os.path.join(path, f))"
   ]
  },
  {
   "cell_type": "code",
   "execution_count": 14,
   "metadata": {},
   "outputs": [
    {
     "name": "stdout",
     "output_type": "stream",
     "text": [
      "bbs: [(0.359405, 0.143086, 0.359568, 0.143297), (0.359348, 0.143028, 0.359865, 0.143173)]\n",
      "bbs: [(0.483326, 0.182265, 0.483875, 0.182475), (0.483436, 0.182246, 0.483737, 0.182285)]\n",
      "bbs: [(0.466421, 0.177026, 0.466609, 0.177235)]\n",
      "bbs: [(0.437172, 0.167639, 0.437269, 0.167952)]\n",
      "bbs: [(0.495259, 0.186124, 0.495388, 0.186275)]\n",
      "bbs: [(0.435903, 0.167242, 0.436213, 0.167419), (0.436029, 0.167286, 0.436464, 0.167601)]\n",
      "bbs: [(0.330478, 0.133869, 0.330614, 0.133936), (0.330504, 0.134038, 0.330548, 0.134058), (0.330427, 0.133922, 0.330695, 0.134154), (0.330637, 0.133969, 0.330985, 0.134256), (0.330372, 0.133988, 0.330461, 0.134186)]\n",
      "bbs: [(0.43365, 0.166568, 0.433736, 0.166656)]\n",
      "bbs: [(0.402299, 0.156592, 0.402337, 0.156636)]\n"
     ]
    }
   ],
   "source": [
    "# save augmented images & corresponding bounding boxes in the 'augmented_bb_images' folder\n",
    "\n",
    "for index,img in enumerate(augmented_bb_images):\n",
    "    \n",
    "    try:\n",
    "        # save augmented image\n",
    "        name = \"AUGMENTED_IMG-\" + str(index) + \".jpg\"\n",
    "        cv2.imwrite(os.path.join(path , name), img[0])\n",
    "        \n",
    "        # save augmented bounding box\n",
    "        name = path+\"\\AUGMENTED_IMG-\" + str(index) + \".txt\"\n",
    "        print(\"bbs:\", img[1])\n",
    "        np.savetxt(name, img[1])\n",
    "    except Exception as ex:\n",
    "        print(ex)\n",
    "\n"
   ]
  }
 ],
 "metadata": {
  "interpreter": {
   "hash": "a535705fb941f7f376fd97205253b1f9cc58cca1c08568d5fd0c417c083000d4"
  },
  "kernelspec": {
   "display_name": "Python 3.8.12 64-bit ('imgaug_env': conda)",
   "language": "python",
   "name": "python3"
  },
  "language_info": {
   "codemirror_mode": {
    "name": "ipython",
    "version": 3
   },
   "file_extension": ".py",
   "mimetype": "text/x-python",
   "name": "python",
   "nbconvert_exporter": "python",
   "pygments_lexer": "ipython3",
   "version": "3.8.12"
  },
  "orig_nbformat": 4
 },
 "nbformat": 4,
 "nbformat_minor": 2
}
